{
 "cells": [
  {
   "cell_type": "markdown",
   "metadata": {},
   "source": [
    "## Прогнозирование расходов клиентов"
   ]
  },
  {
   "cell_type": "code",
   "execution_count": 16,
   "metadata": {},
   "outputs": [],
   "source": [
    "import pandas as pd\n",
    "import numpy as np\n",
    "import matplotlib.pyplot as plt\n",
    "\n",
    "from sklearn.model_selection import train_test_split\n",
    "from sklearn.linear_model import LinearRegression\n",
    "\n",
    "%matplotlib inline"
   ]
  },
  {
   "cell_type": "markdown",
   "metadata": {},
   "source": [
    "Данные"
   ]
  },
  {
   "cell_type": "code",
   "execution_count": 2,
   "metadata": {},
   "outputs": [],
   "source": [
    "df = pd.read_csv('../../data/wrangled_transactions.csv',\n",
    "                 index_col='CustomerID')"
   ]
  },
  {
   "cell_type": "code",
   "execution_count": 3,
   "metadata": {},
   "outputs": [
    {
     "data": {
      "text/html": [
       "<div>\n",
       "<style scoped>\n",
       "    .dataframe tbody tr th:only-of-type {\n",
       "        vertical-align: middle;\n",
       "    }\n",
       "\n",
       "    .dataframe tbody tr th {\n",
       "        vertical-align: top;\n",
       "    }\n",
       "\n",
       "    .dataframe thead th {\n",
       "        text-align: right;\n",
       "    }\n",
       "</style>\n",
       "<table border=\"1\" class=\"dataframe\">\n",
       "  <thead>\n",
       "    <tr style=\"text-align: right;\">\n",
       "      <th></th>\n",
       "      <th>revenue_2019</th>\n",
       "      <th>days_since_first_purchase</th>\n",
       "      <th>days_since_last_purchase</th>\n",
       "      <th>number_of_purchases</th>\n",
       "      <th>avg_order_cost</th>\n",
       "      <th>revenue_2020</th>\n",
       "    </tr>\n",
       "    <tr>\n",
       "      <th>CustomerID</th>\n",
       "      <th></th>\n",
       "      <th></th>\n",
       "      <th></th>\n",
       "      <th></th>\n",
       "      <th></th>\n",
       "      <th></th>\n",
       "    </tr>\n",
       "  </thead>\n",
       "  <tbody>\n",
       "    <tr>\n",
       "      <th>12347.0</th>\n",
       "      <td>711.79</td>\n",
       "      <td>23.0</td>\n",
       "      <td>23.0</td>\n",
       "      <td>1.0</td>\n",
       "      <td>711.79</td>\n",
       "      <td>3598.21</td>\n",
       "    </tr>\n",
       "    <tr>\n",
       "      <th>12348.0</th>\n",
       "      <td>892.80</td>\n",
       "      <td>14.0</td>\n",
       "      <td>14.0</td>\n",
       "      <td>1.0</td>\n",
       "      <td>892.80</td>\n",
       "      <td>904.44</td>\n",
       "    </tr>\n",
       "    <tr>\n",
       "      <th>12370.0</th>\n",
       "      <td>1868.02</td>\n",
       "      <td>16.0</td>\n",
       "      <td>13.0</td>\n",
       "      <td>2.0</td>\n",
       "      <td>934.01</td>\n",
       "      <td>1677.67</td>\n",
       "    </tr>\n",
       "    <tr>\n",
       "      <th>12377.0</th>\n",
       "      <td>1001.52</td>\n",
       "      <td>10.0</td>\n",
       "      <td>10.0</td>\n",
       "      <td>1.0</td>\n",
       "      <td>1001.52</td>\n",
       "      <td>626.60</td>\n",
       "    </tr>\n",
       "    <tr>\n",
       "      <th>12383.0</th>\n",
       "      <td>600.72</td>\n",
       "      <td>8.0</td>\n",
       "      <td>8.0</td>\n",
       "      <td>1.0</td>\n",
       "      <td>600.72</td>\n",
       "      <td>1249.84</td>\n",
       "    </tr>\n",
       "    <tr>\n",
       "      <th>...</th>\n",
       "      <td>...</td>\n",
       "      <td>...</td>\n",
       "      <td>...</td>\n",
       "      <td>...</td>\n",
       "      <td>...</td>\n",
       "      <td>...</td>\n",
       "    </tr>\n",
       "    <tr>\n",
       "      <th>18229.0</th>\n",
       "      <td>653.20</td>\n",
       "      <td>29.0</td>\n",
       "      <td>22.0</td>\n",
       "      <td>2.0</td>\n",
       "      <td>326.60</td>\n",
       "      <td>6623.70</td>\n",
       "    </tr>\n",
       "    <tr>\n",
       "      <th>18239.0</th>\n",
       "      <td>438.10</td>\n",
       "      <td>28.0</td>\n",
       "      <td>28.0</td>\n",
       "      <td>1.0</td>\n",
       "      <td>438.10</td>\n",
       "      <td>1123.51</td>\n",
       "    </tr>\n",
       "    <tr>\n",
       "      <th>18245.0</th>\n",
       "      <td>365.73</td>\n",
       "      <td>11.0</td>\n",
       "      <td>11.0</td>\n",
       "      <td>1.0</td>\n",
       "      <td>365.73</td>\n",
       "      <td>2201.33</td>\n",
       "    </tr>\n",
       "    <tr>\n",
       "      <th>18259.0</th>\n",
       "      <td>376.30</td>\n",
       "      <td>22.0</td>\n",
       "      <td>22.0</td>\n",
       "      <td>1.0</td>\n",
       "      <td>376.30</td>\n",
       "      <td>1962.30</td>\n",
       "    </tr>\n",
       "    <tr>\n",
       "      <th>18260.0</th>\n",
       "      <td>230.70</td>\n",
       "      <td>14.0</td>\n",
       "      <td>14.0</td>\n",
       "      <td>1.0</td>\n",
       "      <td>230.70</td>\n",
       "      <td>2412.50</td>\n",
       "    </tr>\n",
       "  </tbody>\n",
       "</table>\n",
       "<p>738 rows × 6 columns</p>\n",
       "</div>"
      ],
      "text/plain": [
       "            revenue_2019  days_since_first_purchase  days_since_last_purchase  \\\n",
       "CustomerID                                                                      \n",
       "12347.0           711.79                       23.0                      23.0   \n",
       "12348.0           892.80                       14.0                      14.0   \n",
       "12370.0          1868.02                       16.0                      13.0   \n",
       "12377.0          1001.52                       10.0                      10.0   \n",
       "12383.0           600.72                        8.0                       8.0   \n",
       "...                  ...                        ...                       ...   \n",
       "18229.0           653.20                       29.0                      22.0   \n",
       "18239.0           438.10                       28.0                      28.0   \n",
       "18245.0           365.73                       11.0                      11.0   \n",
       "18259.0           376.30                       22.0                      22.0   \n",
       "18260.0           230.70                       14.0                      14.0   \n",
       "\n",
       "            number_of_purchases  avg_order_cost  revenue_2020  \n",
       "CustomerID                                                     \n",
       "12347.0                     1.0          711.79       3598.21  \n",
       "12348.0                     1.0          892.80        904.44  \n",
       "12370.0                     2.0          934.01       1677.67  \n",
       "12377.0                     1.0         1001.52        626.60  \n",
       "12383.0                     1.0          600.72       1249.84  \n",
       "...                         ...             ...           ...  \n",
       "18229.0                     2.0          326.60       6623.70  \n",
       "18239.0                     1.0          438.10       1123.51  \n",
       "18245.0                     1.0          365.73       2201.33  \n",
       "18259.0                     1.0          376.30       1962.30  \n",
       "18260.0                     1.0          230.70       2412.50  \n",
       "\n",
       "[738 rows x 6 columns]"
      ]
     },
     "execution_count": 3,
     "metadata": {},
     "output_type": "execute_result"
    }
   ],
   "source": [
    "df"
   ]
  },
  {
   "cell_type": "markdown",
   "metadata": {},
   "source": [
    "Корреляция между переменными"
   ]
  },
  {
   "cell_type": "code",
   "execution_count": 4,
   "metadata": {},
   "outputs": [
    {
     "data": {
      "text/html": [
       "<div>\n",
       "<style scoped>\n",
       "    .dataframe tbody tr th:only-of-type {\n",
       "        vertical-align: middle;\n",
       "    }\n",
       "\n",
       "    .dataframe tbody tr th {\n",
       "        vertical-align: top;\n",
       "    }\n",
       "\n",
       "    .dataframe thead th {\n",
       "        text-align: right;\n",
       "    }\n",
       "</style>\n",
       "<table border=\"1\" class=\"dataframe\">\n",
       "  <thead>\n",
       "    <tr style=\"text-align: right;\">\n",
       "      <th></th>\n",
       "      <th>revenue_2019</th>\n",
       "      <th>days_since_first_purchase</th>\n",
       "      <th>days_since_last_purchase</th>\n",
       "      <th>number_of_purchases</th>\n",
       "      <th>avg_order_cost</th>\n",
       "      <th>revenue_2020</th>\n",
       "    </tr>\n",
       "  </thead>\n",
       "  <tbody>\n",
       "    <tr>\n",
       "      <th>revenue_2019</th>\n",
       "      <td>1.000000</td>\n",
       "      <td>0.109692</td>\n",
       "      <td>-0.254964</td>\n",
       "      <td>0.504438</td>\n",
       "      <td>0.779401</td>\n",
       "      <td>0.548234</td>\n",
       "    </tr>\n",
       "    <tr>\n",
       "      <th>days_since_first_purchase</th>\n",
       "      <td>0.109692</td>\n",
       "      <td>1.000000</td>\n",
       "      <td>0.641574</td>\n",
       "      <td>0.327502</td>\n",
       "      <td>-0.074321</td>\n",
       "      <td>0.061743</td>\n",
       "    </tr>\n",
       "    <tr>\n",
       "      <th>days_since_last_purchase</th>\n",
       "      <td>-0.254964</td>\n",
       "      <td>0.641574</td>\n",
       "      <td>1.000000</td>\n",
       "      <td>-0.398268</td>\n",
       "      <td>-0.054051</td>\n",
       "      <td>-0.171294</td>\n",
       "    </tr>\n",
       "    <tr>\n",
       "      <th>number_of_purchases</th>\n",
       "      <td>0.504438</td>\n",
       "      <td>0.327502</td>\n",
       "      <td>-0.398268</td>\n",
       "      <td>1.000000</td>\n",
       "      <td>-0.012466</td>\n",
       "      <td>0.355751</td>\n",
       "    </tr>\n",
       "    <tr>\n",
       "      <th>avg_order_cost</th>\n",
       "      <td>0.779401</td>\n",
       "      <td>-0.074321</td>\n",
       "      <td>-0.054051</td>\n",
       "      <td>-0.012466</td>\n",
       "      <td>1.000000</td>\n",
       "      <td>0.357384</td>\n",
       "    </tr>\n",
       "    <tr>\n",
       "      <th>revenue_2020</th>\n",
       "      <td>0.548234</td>\n",
       "      <td>0.061743</td>\n",
       "      <td>-0.171294</td>\n",
       "      <td>0.355751</td>\n",
       "      <td>0.357384</td>\n",
       "      <td>1.000000</td>\n",
       "    </tr>\n",
       "  </tbody>\n",
       "</table>\n",
       "</div>"
      ],
      "text/plain": [
       "                           revenue_2019  days_since_first_purchase  \\\n",
       "revenue_2019                   1.000000                   0.109692   \n",
       "days_since_first_purchase      0.109692                   1.000000   \n",
       "days_since_last_purchase      -0.254964                   0.641574   \n",
       "number_of_purchases            0.504438                   0.327502   \n",
       "avg_order_cost                 0.779401                  -0.074321   \n",
       "revenue_2020                   0.548234                   0.061743   \n",
       "\n",
       "                           days_since_last_purchase  number_of_purchases  \\\n",
       "revenue_2019                              -0.254964             0.504438   \n",
       "days_since_first_purchase                  0.641574             0.327502   \n",
       "days_since_last_purchase                   1.000000            -0.398268   \n",
       "number_of_purchases                       -0.398268             1.000000   \n",
       "avg_order_cost                            -0.054051            -0.012466   \n",
       "revenue_2020                              -0.171294             0.355751   \n",
       "\n",
       "                           avg_order_cost  revenue_2020  \n",
       "revenue_2019                     0.779401      0.548234  \n",
       "days_since_first_purchase       -0.074321      0.061743  \n",
       "days_since_last_purchase        -0.054051     -0.171294  \n",
       "number_of_purchases             -0.012466      0.355751  \n",
       "avg_order_cost                   1.000000      0.357384  \n",
       "revenue_2020                     0.357384      1.000000  "
      ]
     },
     "execution_count": 4,
     "metadata": {},
     "output_type": "execute_result"
    }
   ],
   "source": [
    "df.corr()"
   ]
  },
  {
   "cell_type": "markdown",
   "metadata": {},
   "source": [
    "Зависимые и независимые переменные"
   ]
  },
  {
   "cell_type": "code",
   "execution_count": 5,
   "metadata": {},
   "outputs": [],
   "source": [
    "X = df[['revenue_2019',\n",
    "        'days_since_last_purchase',\n",
    "        'number_of_purchases',\n",
    "        'avg_order_cost']]\n",
    "\n",
    "y = df['revenue_2020']"
   ]
  },
  {
   "cell_type": "markdown",
   "metadata": {},
   "source": [
    "Разбить данные"
   ]
  },
  {
   "cell_type": "code",
   "execution_count": 7,
   "metadata": {},
   "outputs": [],
   "source": [
    "X_train, X_test, y_train, y_test = train_test_split(X, y, random_state = 100)"
   ]
  },
  {
   "cell_type": "markdown",
   "metadata": {},
   "source": [
    "Обучение модели"
   ]
  },
  {
   "cell_type": "code",
   "execution_count": 9,
   "metadata": {},
   "outputs": [
    {
     "data": {
      "text/html": [
       "<style>#sk-container-id-1 {color: black;background-color: white;}#sk-container-id-1 pre{padding: 0;}#sk-container-id-1 div.sk-toggleable {background-color: white;}#sk-container-id-1 label.sk-toggleable__label {cursor: pointer;display: block;width: 100%;margin-bottom: 0;padding: 0.3em;box-sizing: border-box;text-align: center;}#sk-container-id-1 label.sk-toggleable__label-arrow:before {content: \"▸\";float: left;margin-right: 0.25em;color: #696969;}#sk-container-id-1 label.sk-toggleable__label-arrow:hover:before {color: black;}#sk-container-id-1 div.sk-estimator:hover label.sk-toggleable__label-arrow:before {color: black;}#sk-container-id-1 div.sk-toggleable__content {max-height: 0;max-width: 0;overflow: hidden;text-align: left;background-color: #f0f8ff;}#sk-container-id-1 div.sk-toggleable__content pre {margin: 0.2em;color: black;border-radius: 0.25em;background-color: #f0f8ff;}#sk-container-id-1 input.sk-toggleable__control:checked~div.sk-toggleable__content {max-height: 200px;max-width: 100%;overflow: auto;}#sk-container-id-1 input.sk-toggleable__control:checked~label.sk-toggleable__label-arrow:before {content: \"▾\";}#sk-container-id-1 div.sk-estimator input.sk-toggleable__control:checked~label.sk-toggleable__label {background-color: #d4ebff;}#sk-container-id-1 div.sk-label input.sk-toggleable__control:checked~label.sk-toggleable__label {background-color: #d4ebff;}#sk-container-id-1 input.sk-hidden--visually {border: 0;clip: rect(1px 1px 1px 1px);clip: rect(1px, 1px, 1px, 1px);height: 1px;margin: -1px;overflow: hidden;padding: 0;position: absolute;width: 1px;}#sk-container-id-1 div.sk-estimator {font-family: monospace;background-color: #f0f8ff;border: 1px dotted black;border-radius: 0.25em;box-sizing: border-box;margin-bottom: 0.5em;}#sk-container-id-1 div.sk-estimator:hover {background-color: #d4ebff;}#sk-container-id-1 div.sk-parallel-item::after {content: \"\";width: 100%;border-bottom: 1px solid gray;flex-grow: 1;}#sk-container-id-1 div.sk-label:hover label.sk-toggleable__label {background-color: #d4ebff;}#sk-container-id-1 div.sk-serial::before {content: \"\";position: absolute;border-left: 1px solid gray;box-sizing: border-box;top: 0;bottom: 0;left: 50%;z-index: 0;}#sk-container-id-1 div.sk-serial {display: flex;flex-direction: column;align-items: center;background-color: white;padding-right: 0.2em;padding-left: 0.2em;position: relative;}#sk-container-id-1 div.sk-item {position: relative;z-index: 1;}#sk-container-id-1 div.sk-parallel {display: flex;align-items: stretch;justify-content: center;background-color: white;position: relative;}#sk-container-id-1 div.sk-item::before, #sk-container-id-1 div.sk-parallel-item::before {content: \"\";position: absolute;border-left: 1px solid gray;box-sizing: border-box;top: 0;bottom: 0;left: 50%;z-index: -1;}#sk-container-id-1 div.sk-parallel-item {display: flex;flex-direction: column;z-index: 1;position: relative;background-color: white;}#sk-container-id-1 div.sk-parallel-item:first-child::after {align-self: flex-end;width: 50%;}#sk-container-id-1 div.sk-parallel-item:last-child::after {align-self: flex-start;width: 50%;}#sk-container-id-1 div.sk-parallel-item:only-child::after {width: 0;}#sk-container-id-1 div.sk-dashed-wrapped {border: 1px dashed gray;margin: 0 0.4em 0.5em 0.4em;box-sizing: border-box;padding-bottom: 0.4em;background-color: white;}#sk-container-id-1 div.sk-label label {font-family: monospace;font-weight: bold;display: inline-block;line-height: 1.2em;}#sk-container-id-1 div.sk-label-container {text-align: center;}#sk-container-id-1 div.sk-container {/* jupyter's `normalize.less` sets `[hidden] { display: none; }` but bootstrap.min.css set `[hidden] { display: none !important; }` so we also need the `!important` here to be able to override the default hidden behavior on the sphinx rendered scikit-learn.org. See: https://github.com/scikit-learn/scikit-learn/issues/21755 */display: inline-block !important;position: relative;}#sk-container-id-1 div.sk-text-repr-fallback {display: none;}</style><div id=\"sk-container-id-1\" class=\"sk-top-container\"><div class=\"sk-text-repr-fallback\"><pre>LinearRegression()</pre><b>In a Jupyter environment, please rerun this cell to show the HTML representation or trust the notebook. <br />On GitHub, the HTML representation is unable to render, please try loading this page with nbviewer.org.</b></div><div class=\"sk-container\" hidden><div class=\"sk-item\"><div class=\"sk-estimator sk-toggleable\"><input class=\"sk-toggleable__control sk-hidden--visually\" id=\"sk-estimator-id-1\" type=\"checkbox\" checked><label for=\"sk-estimator-id-1\" class=\"sk-toggleable__label sk-toggleable__label-arrow\">LinearRegression</label><div class=\"sk-toggleable__content\"><pre>LinearRegression()</pre></div></div></div></div></div>"
      ],
      "text/plain": [
       "LinearRegression()"
      ]
     },
     "execution_count": 9,
     "metadata": {},
     "output_type": "execute_result"
    }
   ],
   "source": [
    "model = LinearRegression()\n",
    "model.fit(X_train,y_train)"
   ]
  },
  {
   "cell_type": "code",
   "execution_count": 10,
   "metadata": {},
   "outputs": [
    {
     "data": {
      "text/plain": [
       "array([  5.78799016,   7.47737544, 336.60769871,  -2.0558923 ])"
      ]
     },
     "execution_count": 10,
     "metadata": {},
     "output_type": "execute_result"
    }
   ],
   "source": [
    "model.coef_"
   ]
  },
  {
   "cell_type": "code",
   "execution_count": 11,
   "metadata": {},
   "outputs": [
    {
     "data": {
      "text/plain": [
       "264.86932657059924"
      ]
     },
     "execution_count": 11,
     "metadata": {},
     "output_type": "execute_result"
    }
   ],
   "source": [
    "model.intercept_"
   ]
  },
  {
   "cell_type": "markdown",
   "metadata": {},
   "source": [
    "Тестовая проверка прогноза для 1-го клиента на 2020 год"
   ]
  },
  {
   "cell_type": "code",
   "execution_count": 12,
   "metadata": {},
   "outputs": [
    {
     "data": {
      "text/plain": [
       "array([5847.67624446])"
      ]
     },
     "execution_count": 12,
     "metadata": {},
     "output_type": "execute_result"
    }
   ],
   "source": [
    "single_customer = pd.DataFrame({\n",
    "    'revenue_2019': [1000],\n",
    "    'days_since_last_purchase': [20],\n",
    "    'number_of_purchases': [2],\n",
    "    'avg_order_cost': [500]\n",
    "})\n",
    "\n",
    "model.predict(single_customer)"
   ]
  },
  {
   "cell_type": "markdown",
   "metadata": {},
   "source": [
    "График сравнения прогноза с истинным значением\n",
    "\n",
    "Точки лежат далеко от линии, поэтому модель несовсем точна"
   ]
  },
  {
   "cell_type": "code",
   "execution_count": 15,
   "metadata": {},
   "outputs": [
    {
     "data": {
      "image/png": "[encoded data removed]",
      "text/plain": [
       "<Figure size 640x480 with 1 Axes>"
      ]
     },
     "metadata": {},
     "output_type": "display_data"
    }
   ],
   "source": [
    "plt.scatter(model.predict(X_test), y_test)\n",
    "plt.xlim(0,10000)\n",
    "plt.ylim(0,10000)\n",
    "plt.plot([0, 10000], [0, 10000], 'k-')\n",
    "plt.xlabel('Model Predictions')\n",
    "plt.ylabel('True Value')\n",
    "plt.show()"
   ]
  },
  {
   "cell_type": "markdown",
   "metadata": {},
   "source": [
    "Корреляция для истинных и предсказанных значений\n",
    "\n",
    "Сесьма средняя"
   ]
  },
  {
   "cell_type": "code",
   "execution_count": 17,
   "metadata": {},
   "outputs": [
    {
     "data": {
      "text/plain": [
       "array([[1.        , 0.61257401],\n",
       "       [0.61257401, 1.        ]])"
      ]
     },
     "execution_count": 17,
     "metadata": {},
     "output_type": "execute_result"
    }
   ],
   "source": [
    "np.corrcoef(model.predict(X_test), y_test)"
   ]
  }
 ],
 "metadata": {
  "kernelspec": {
   "display_name": "Python 3.8.10 ('env_ma': venv)",
   "language": "python",
   "name": "python3"
  },
  "language_info": {
   "codemirror_mode": {
    "name": "ipython",
    "version": 3
   },
   "file_extension": ".py",
   "mimetype": "text/x-python",
   "name": "python",
   "nbconvert_exporter": "python",
   "pygments_lexer": "ipython3",
   "version": "3.8.10"
  },
  "orig_nbformat": 4,
  "vscode": {
   "interpreter": {
    "hash": "5d6988d8c6f0cfad8e85befd8eff255b4c1689fc90bf158bfecefa97784f0cab"
   }
  }
 },
 "nbformat": 4,
 "nbformat_minor": 2
}
