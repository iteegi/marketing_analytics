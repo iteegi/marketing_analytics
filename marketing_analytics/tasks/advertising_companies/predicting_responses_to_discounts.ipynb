{
 "cells": [
  {
   "cell_type": "markdown",
   "metadata": {},
   "source": [
    "## Прогнозирование откликов на скидки"
   ]
  },
  {
   "cell_type": "code",
   "execution_count": 23,
   "metadata": {},
   "outputs": [],
   "source": [
    "import pandas as pd\n",
    "\n",
    "from typing import NamedTuple\n",
    "\n",
    "from pandas import DataFrame\n",
    "from sklearn.linear_model import LinearRegression\n",
    "from sklearn.model_selection import train_test_split\n",
    "from sklearn.metrics import mean_squared_error"
   ]
  },
  {
   "cell_type": "markdown",
   "metadata": {},
   "source": [
    "Данные"
   ]
  },
  {
   "cell_type": "code",
   "execution_count": 2,
   "metadata": {},
   "outputs": [
    {
     "data": {
      "text/html": [
       "<div>\n",
       "<style scoped>\n",
       "    .dataframe tbody tr th:only-of-type {\n",
       "        vertical-align: middle;\n",
       "    }\n",
       "\n",
       "    .dataframe tbody tr th {\n",
       "        vertical-align: top;\n",
       "    }\n",
       "\n",
       "    .dataframe thead th {\n",
       "        text-align: right;\n",
       "    }\n",
       "</style>\n",
       "<table border=\"1\" class=\"dataframe\">\n",
       "  <thead>\n",
       "    <tr style=\"text-align: right;\">\n",
       "      <th></th>\n",
       "      <th>responses</th>\n",
       "      <th>offer_discount</th>\n",
       "      <th>offer_quality</th>\n",
       "      <th>offer_reach</th>\n",
       "    </tr>\n",
       "  </thead>\n",
       "  <tbody>\n",
       "    <tr>\n",
       "      <th>0</th>\n",
       "      <td>4151.0</td>\n",
       "      <td>26.0</td>\n",
       "      <td>10.257680</td>\n",
       "      <td>31344.0</td>\n",
       "    </tr>\n",
       "    <tr>\n",
       "      <th>1</th>\n",
       "      <td>3397.0</td>\n",
       "      <td>35.0</td>\n",
       "      <td>15.194380</td>\n",
       "      <td>24016.0</td>\n",
       "    </tr>\n",
       "    <tr>\n",
       "      <th>2</th>\n",
       "      <td>3274.0</td>\n",
       "      <td>21.0</td>\n",
       "      <td>13.971468</td>\n",
       "      <td>28832.0</td>\n",
       "    </tr>\n",
       "    <tr>\n",
       "      <th>3</th>\n",
       "      <td>3426.0</td>\n",
       "      <td>27.0</td>\n",
       "      <td>6.054338</td>\n",
       "      <td>26747.0</td>\n",
       "    </tr>\n",
       "    <tr>\n",
       "      <th>4</th>\n",
       "      <td>5745.0</td>\n",
       "      <td>42.0</td>\n",
       "      <td>16.801365</td>\n",
       "      <td>46968.0</td>\n",
       "    </tr>\n",
       "  </tbody>\n",
       "</table>\n",
       "</div>"
      ],
      "text/plain": [
       "   responses  offer_discount  offer_quality  offer_reach\n",
       "0     4151.0            26.0      10.257680      31344.0\n",
       "1     3397.0            35.0      15.194380      24016.0\n",
       "2     3274.0            21.0      13.971468      28832.0\n",
       "3     3426.0            27.0       6.054338      26747.0\n",
       "4     5745.0            42.0      16.801365      46968.0"
      ]
     },
     "execution_count": 2,
     "metadata": {},
     "output_type": "execute_result"
    }
   ],
   "source": [
    "df = pd.read_csv('../../data/offer_responses.csv')\n",
    "df.head()"
   ]
  },
  {
   "cell_type": "code",
   "execution_count": 3,
   "metadata": {},
   "outputs": [],
   "source": [
    "X = df[['offer_quality',\n",
    "        'offer_discount',\n",
    "        'offer_reach']]\n",
    " \n",
    "y = df['responses']"
   ]
  },
  {
   "cell_type": "code",
   "execution_count": 5,
   "metadata": {},
   "outputs": [],
   "source": [
    "X_train, X_test, y_train, y_test = train_test_split(X, y, random_state = 10)"
   ]
  },
  {
   "cell_type": "code",
   "execution_count": 22,
   "metadata": {},
   "outputs": [
    {
     "data": {
      "text/plain": [
       "pandas.core.frame.DataFrame"
      ]
     },
     "execution_count": 22,
     "metadata": {},
     "output_type": "execute_result"
    }
   ],
   "source": [
    "type(X_train)"
   ]
  },
  {
   "cell_type": "markdown",
   "metadata": {},
   "source": [
    "Обучение модели для всех предикторов"
   ]
  },
  {
   "cell_type": "code",
   "execution_count": 7,
   "metadata": {},
   "outputs": [
    {
     "name": "stdout",
     "output_type": "stream",
     "text": [
      "RMSE with all variables: 966.2461828577945\n"
     ]
    }
   ],
   "source": [
    "model = LinearRegression()\n",
    "model.fit(X_train,y_train)\n",
    "\n",
    "predictions = model.predict(X_test)\n",
    "\n",
    "print(f'RMSE with all variables: {str(mean_squared_error(predictions, y_test)**0.5)}')"
   ]
  },
  {
   "cell_type": "code",
   "execution_count": 29,
   "metadata": {},
   "outputs": [],
   "source": [
    "class RSMEWithoutOffer(NamedTuple):\n",
    "    without_column: str\n",
    "    rsme: float"
   ]
  },
  {
   "cell_type": "markdown",
   "metadata": {},
   "source": [
    "RSME минимальна при отсутствии offer_quality, поэтому этот параметр можно отбросить"
   ]
  },
  {
   "cell_type": "code",
   "execution_count": 31,
   "metadata": {},
   "outputs": [
    {
     "name": "stdout",
     "output_type": "stream",
     "text": [
      "RMSE without offer offer_quality: 965.5346123758474\n",
      "RMSE without offer offer_discount: 1231.6766556327284\n",
      "RMSE without offer offer_reach: 1185.8456831644116\n"
     ]
    }
   ],
   "source": [
    "def get_RMSE(X_train: DataFrame,\n",
    "             X_test: DataFrame,\n",
    "             y_train: DataFrame,\n",
    "             y_test: DataFrame) -> RSMEWithoutOffer:\n",
    "    for column in X.columns:\n",
    "        X_train2 = X_train.drop(column, axis=1)\n",
    "        X_test2 = X_test.drop(column, axis=1)\n",
    "\n",
    "        model = LinearRegression()\n",
    "        model.fit(X_train2, y_train)\n",
    "\n",
    "        predictions = model.predict(X_test2)\n",
    "\n",
    "        yield RSMEWithoutOffer(column, mean_squared_error(predictions, y_test)**0.5)\n",
    "\n",
    "\n",
    "for column, rsme in get_RMSE(X_train, X_test, y_train, y_test):\n",
    "    print(f'RMSE without offer {column}: {rsme}')\n"
   ]
  }
 ],
 "metadata": {
  "kernelspec": {
   "display_name": "Python 3.8.10 ('env_ma': venv)",
   "language": "python",
   "name": "python3"
  },
  "language_info": {
   "codemirror_mode": {
    "name": "ipython",
    "version": 3
   },
   "file_extension": ".py",
   "mimetype": "text/x-python",
   "name": "python",
   "nbconvert_exporter": "python",
   "pygments_lexer": "ipython3",
   "version": "3.8.10"
  },
  "orig_nbformat": 4,
  "vscode": {
   "interpreter": {
    "hash": "5d6988d8c6f0cfad8e85befd8eff255b4c1689fc90bf158bfecefa97784f0cab"
   }
  }
 },
 "nbformat": 4,
 "nbformat_minor": 2
}
